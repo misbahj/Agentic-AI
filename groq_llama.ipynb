{
  "cells": [
    {
      "cell_type": "markdown",
      "metadata": {
        "id": "view-in-github",
        "colab_type": "text"
      },
      "source": [
        "<a href=\"https://colab.research.google.com/github/misbahj/Agentic-AI/blob/main/groq_llama.ipynb\" target=\"_parent\"><img src=\"https://colab.research.google.com/assets/colab-badge.svg\" alt=\"Open In Colab\"/></a>"
      ]
    },
    {
      "cell_type": "markdown",
      "metadata": {
        "id": "B81HaqajHOgO"
      },
      "source": [
        "# First Agentic AI workflow with Groq and Llama-3.3 LLM(Free of cost)"
      ]
    },
    {
      "cell_type": "code",
      "source": [
        "!pip install python-dotenv"
      ],
      "metadata": {
        "id": "4Vx60hmvC9Ur",
        "outputId": "6f0a1578-965d-489a-8f34-f7b98246493c",
        "colab": {
          "base_uri": "https://localhost:8080/"
        }
      },
      "execution_count": 3,
      "outputs": [
        {
          "output_type": "stream",
          "name": "stdout",
          "text": [
            "Collecting python-dotenv\n",
            "  Downloading python_dotenv-1.1.0-py3-none-any.whl.metadata (24 kB)\n",
            "Downloading python_dotenv-1.1.0-py3-none-any.whl (20 kB)\n",
            "Installing collected packages: python-dotenv\n",
            "Successfully installed python-dotenv-1.1.0\n"
          ]
        }
      ]
    },
    {
      "cell_type": "code",
      "execution_count": 4,
      "metadata": {
        "id": "cOeOVcoEHOgQ"
      },
      "outputs": [],
      "source": [
        "# First let's do an import\n",
        "from dotenv import load_dotenv"
      ]
    },
    {
      "cell_type": "code",
      "execution_count": 5,
      "metadata": {
        "id": "EzvYILabHOgR",
        "outputId": "14eb0cdb-92c8-4d28-d224-5686c1571608",
        "colab": {
          "base_uri": "https://localhost:8080/"
        }
      },
      "outputs": [
        {
          "output_type": "execute_result",
          "data": {
            "text/plain": [
              "False"
            ]
          },
          "metadata": {},
          "execution_count": 5
        }
      ],
      "source": [
        "# Next it's time to load the API keys into environment variables\n",
        "\n",
        "load_dotenv(override=True)"
      ]
    },
    {
      "cell_type": "code",
      "source": [
        "# Check the Groq API key\n",
        "import os\n",
        "\n",
        "# Try to get the API key using a specific key name first\n",
        "groq_api_key = os.getenv('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') # add your API key here: ##################\n",
        "\n",
        "if groq_api_key:\n",
        "    print(f\"GROQ API Key exists and begins {groq_api_key[:8]}\")\n",
        "else:\n",
        "    # If the specific key name doesn't work, try the generic GROQ_API_KEY\n",
        "    groq_api_key = os.getenv('GROQ_API_KEY') # add your API key here: ##################\n",
        "\n",
        "    if groq_api_key:\n",
        "        print(f\"GROQ API Key exists and begins {groq_api_key[:8]}\")\n",
        "    else:\n",
        "        print(\"GROQ API Key not set\")"
      ],
      "metadata": {
        "id": "wfZwEi0aconk",
        "outputId": "618065e1-c72a-45c1-9e95-243cc32ca7c0",
        "colab": {
          "base_uri": "https://localhost:8080/"
        }
      },
      "execution_count": 15,
      "outputs": [
        {
          "output_type": "stream",
          "name": "stdout",
          "text": [
            "GROQ API Key not set\n"
          ]
        }
      ]
    },
    {
      "cell_type": "code",
      "source": [
        "# And now - the all important import statement\n",
        "# If you get an import error - head over to troubleshooting guide\n",
        "!pip install groq\n",
        "from groq import Groq"
      ],
      "metadata": {
        "id": "ZucrbIt6c2Sj",
        "outputId": "0c6a4550-8ab9-426a-bc54-6b8c3afe6fa9",
        "colab": {
          "base_uri": "https://localhost:8080/"
        }
      },
      "execution_count": 17,
      "outputs": [
        {
          "output_type": "stream",
          "name": "stdout",
          "text": [
            "Collecting groq\n",
            "  Downloading groq-0.25.0-py3-none-any.whl.metadata (15 kB)\n",
            "Requirement already satisfied: anyio<5,>=3.5.0 in /usr/local/lib/python3.11/dist-packages (from groq) (4.9.0)\n",
            "Requirement already satisfied: distro<2,>=1.7.0 in /usr/local/lib/python3.11/dist-packages (from groq) (1.9.0)\n",
            "Requirement already satisfied: httpx<1,>=0.23.0 in /usr/local/lib/python3.11/dist-packages (from groq) (0.28.1)\n",
            "Requirement already satisfied: pydantic<3,>=1.9.0 in /usr/local/lib/python3.11/dist-packages (from groq) (2.11.4)\n",
            "Requirement already satisfied: sniffio in /usr/local/lib/python3.11/dist-packages (from groq) (1.3.1)\n",
            "Requirement already satisfied: typing-extensions<5,>=4.10 in /usr/local/lib/python3.11/dist-packages (from groq) (4.13.2)\n",
            "Requirement already satisfied: idna>=2.8 in /usr/local/lib/python3.11/dist-packages (from anyio<5,>=3.5.0->groq) (3.10)\n",
            "Requirement already satisfied: certifi in /usr/local/lib/python3.11/dist-packages (from httpx<1,>=0.23.0->groq) (2025.4.26)\n",
            "Requirement already satisfied: httpcore==1.* in /usr/local/lib/python3.11/dist-packages (from httpx<1,>=0.23.0->groq) (1.0.9)\n",
            "Requirement already satisfied: h11>=0.16 in /usr/local/lib/python3.11/dist-packages (from httpcore==1.*->httpx<1,>=0.23.0->groq) (0.16.0)\n",
            "Requirement already satisfied: annotated-types>=0.6.0 in /usr/local/lib/python3.11/dist-packages (from pydantic<3,>=1.9.0->groq) (0.7.0)\n",
            "Requirement already satisfied: pydantic-core==2.33.2 in /usr/local/lib/python3.11/dist-packages (from pydantic<3,>=1.9.0->groq) (2.33.2)\n",
            "Requirement already satisfied: typing-inspection>=0.4.0 in /usr/local/lib/python3.11/dist-packages (from pydantic<3,>=1.9.0->groq) (0.4.1)\n",
            "Downloading groq-0.25.0-py3-none-any.whl (129 kB)\n",
            "\u001b[2K   \u001b[90m━━━━━━━━━━━━━━━━━━━━━━━━━━━━━━━━━━━━━━━━\u001b[0m \u001b[32m129.4/129.4 kB\u001b[0m \u001b[31m3.6 MB/s\u001b[0m eta \u001b[36m0:00:00\u001b[0m\n",
            "\u001b[?25hInstalling collected packages: groq\n",
            "Successfully installed groq-0.25.0\n"
          ]
        }
      ]
    },
    {
      "cell_type": "code",
      "source": [
        "# Create a Groq instance\n",
        "# Use the groq_api_key variable which holds the actual API key value\n",
        "groq = Groq(api_key='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')"
      ],
      "metadata": {
        "id": "Xu8Uzf7ydsFl"
      },
      "execution_count": 37,
      "outputs": []
    },
    {
      "cell_type": "code",
      "execution_count": 25,
      "metadata": {
        "id": "VLgYw5iYHOgU"
      },
      "outputs": [],
      "source": [
        "# Create a list of messages in the familiar Groq format\n",
        "\n",
        "messages = [{\"role\": \"user\", \"content\": \"What is 2+2?\"}]"
      ]
    },
    {
      "cell_type": "code",
      "execution_count": 38,
      "metadata": {
        "id": "C1WrUYcxHOgV",
        "outputId": "fe03bf63-5935-4702-e2c0-5b51ad6d0d65",
        "colab": {
          "base_uri": "https://localhost:8080/"
        }
      },
      "outputs": [
        {
          "output_type": "stream",
          "name": "stdout",
          "text": [
            "One business area that might be ripe for an Agentic AI solution is **Supply Chain Optimization**. \n",
            "\n",
            "In this area, Agentic AI can be applied to create autonomous agents that can negotiate, adapt, and make decisions in real-time to optimize supply chain operations. These agents can interact with various stakeholders, such as suppliers, manufacturers, logistics providers, and retailers, to:\n",
            "\n",
            "1. **Predict and prevent disruptions**: Agents can analyze data from various sources, such as weather forecasts, traffic updates, and supplier performance, to anticipate potential disruptions and develop contingency plans.\n",
            "2. **Optimize inventory management**: Agents can continuously monitor inventory levels, demand forecasts, and supplier lead times to ensure that the right products are stocked at the right quantities, reducing stockouts and overstocking.\n",
            "3. **Streamline logistics and transportation**: Agents can negotiate with logistics providers to secure the best rates and schedules, taking into account factors such as fuel prices, traffic, and road conditions.\n",
            "4. **Improve supplier management**: Agents can evaluate supplier performance, negotiate contracts, and develop strategic partnerships to ensure reliable and high-quality supplies.\n",
            "\n",
            "By deploying Agentic AI in supply chain optimization, businesses can:\n",
            "\n",
            "1. **Reduce costs**: By minimizing disruptions, optimizing inventory, and streamlining logistics.\n",
            "2. **Improve customer satisfaction**: By ensuring timely and reliable deliveries.\n",
            "3. **Increase agility**: By enabling rapid responses to changes in demand, supply, or other market conditions.\n",
            "\n",
            "The key benefits of Agentic AI in supply chain optimization include:\n",
            "\n",
            "1. **Autonomy**: Agents can operate independently, making decisions and taking actions without human intervention.\n",
            "2. **Adaptability**: Agents can learn from experience and adapt to changing conditions, such as changes in demand or supplier performance.\n",
            "3. **Scalability**: Agents can be easily replicated and deployed across multiple supply chain nodes, enabling rapid scaling of operations.\n",
            "\n",
            "Overall, the application of Agentic AI in supply chain optimization has the potential to transform the way businesses manage their supply chains, enabling them to respond more quickly and effectively to changing market conditions.\n"
          ]
        }
      ],
      "source": [
        "# And now call it!\n",
        "\n",
        "response = groq.chat.completions.create(model='llama-3.3-70b-versatile', messages=messages)\n",
        "print(response.choices[0].message.content)\n"
      ]
    },
    {
      "cell_type": "code",
      "execution_count": null,
      "metadata": {
        "id": "d3zkxX1uHOgV"
      },
      "outputs": [],
      "source": []
    },
    {
      "cell_type": "code",
      "execution_count": 39,
      "metadata": {
        "id": "2j-gU1lSHOgV"
      },
      "outputs": [],
      "source": [
        "# And now - let's ask for a question:\n",
        "\n",
        "question = \"Please propose a hard, challenging question to assess someone's IQ. Respond only with the question.\"\n",
        "messages = [{\"role\": \"user\", \"content\": question}]\n"
      ]
    },
    {
      "cell_type": "code",
      "execution_count": 40,
      "metadata": {
        "id": "7dd2h2HzHOgW",
        "outputId": "17191059-7153-4b8a-972a-85122dfd6b5f",
        "colab": {
          "base_uri": "https://localhost:8080/"
        }
      },
      "outputs": [
        {
          "output_type": "stream",
          "name": "stdout",
          "text": [
            "A snail is at the bottom of a 20-foot well. Each day, it climbs up 3 feet, but at night, it slips back 2 feet. How many days will it take for the snail to reach the top of the well?\n"
          ]
        }
      ],
      "source": [
        "# ask it\n",
        "response = groq.chat.completions.create(\n",
        "    model=\"llama-3.3-70b-versatile\",\n",
        "    messages=messages\n",
        ")\n",
        "\n",
        "question = response.choices[0].message.content\n",
        "\n",
        "print(question)\n"
      ]
    },
    {
      "cell_type": "code",
      "execution_count": 41,
      "metadata": {
        "id": "OpCKGEV_HOgX"
      },
      "outputs": [],
      "source": [
        "# form a new messages list\n",
        "messages = [{\"role\": \"user\", \"content\": question}]\n"
      ]
    },
    {
      "cell_type": "code",
      "execution_count": 42,
      "metadata": {
        "id": "qTK5tovkHOgX",
        "outputId": "fed15caf-b884-4862-ba6c-e82af48b1e77",
        "colab": {
          "base_uri": "https://localhost:8080/"
        }
      },
      "outputs": [
        {
          "output_type": "stream",
          "name": "stdout",
          "text": [
            "To solve this problem, let's break it down step by step:\n",
            "\n",
            "1. The snail climbs 3 feet during the day and slips back 2 feet at night, so it effectively moves up 1 foot each day (3 - 2 = 1).\n",
            "\n",
            "2. Since the well is 20 feet deep, we need to find out how many days it will take for the snail to climb 20 feet at a rate of 1 foot per day.\n",
            "\n",
            "3. However, on the last day of climbing, the snail won't slip back at night because it will have already reached the top. So, on the final day, the snail will climb 3 feet and reach the top.\n",
            "\n",
            "4. To find the number of days, let's subtract the final climb of 3 feet from the total height: 20 - 3 = 17 feet.\n",
            "\n",
            "5. Now, we divide the remaining distance (17 feet) by the daily progress (1 foot): 17 / 1 = 17 days.\n",
            "\n",
            "6. But remember, we subtracted 1 day's worth of climbing (3 feet) to account for the final day, so we need to add 1 day to our total: 17 + 1 = 18 days.\n",
            "\n",
            "Therefore, it will take the snail 18 days to reach the top of the well.\n"
          ]
        }
      ],
      "source": [
        "# Ask it again\n",
        "\n",
        "response = groq.chat.completions.create(\n",
        "    model=\"llama-3.3-70b-versatile\",\n",
        "    messages=messages\n",
        ")\n",
        "\n",
        "answer = response.choices[0].message.content\n",
        "print(answer)\n"
      ]
    },
    {
      "cell_type": "code",
      "execution_count": 43,
      "metadata": {
        "id": "xUX_1deXHOgX",
        "outputId": "24bb7b5a-b067-4331-c8af-4fdd0ecfb1d8",
        "colab": {
          "base_uri": "https://localhost:8080/",
          "height": 243
        }
      },
      "outputs": [
        {
          "output_type": "display_data",
          "data": {
            "text/plain": [
              "<IPython.core.display.Markdown object>"
            ],
            "text/markdown": "To solve this problem, let's break it down step by step:\n\n1. The snail climbs 3 feet during the day and slips back 2 feet at night, so it effectively moves up 1 foot each day (3 - 2 = 1).\n\n2. Since the well is 20 feet deep, we need to find out how many days it will take for the snail to climb 20 feet at a rate of 1 foot per day.\n\n3. However, on the last day of climbing, the snail won't slip back at night because it will have already reached the top. So, on the final day, the snail will climb 3 feet and reach the top.\n\n4. To find the number of days, let's subtract the final climb of 3 feet from the total height: 20 - 3 = 17 feet.\n\n5. Now, we divide the remaining distance (17 feet) by the daily progress (1 foot): 17 / 1 = 17 days.\n\n6. But remember, we subtracted 1 day's worth of climbing (3 feet) to account for the final day, so we need to add 1 day to our total: 17 + 1 = 18 days.\n\nTherefore, it will take the snail 18 days to reach the top of the well."
          },
          "metadata": {}
        }
      ],
      "source": [
        "from IPython.display import Markdown, display\n",
        "\n",
        "display(Markdown(answer))\n",
        "\n"
      ]
    },
    {
      "cell_type": "markdown",
      "source": [
        "# Exercise"
      ],
      "metadata": {
        "id": "oG52GOVqH14h"
      }
    },
    {
      "cell_type": "code",
      "execution_count": 44,
      "metadata": {
        "id": "SUP6r3wuHOgY"
      },
      "outputs": [],
      "source": [
        "# First create the messages:\n",
        "\n",
        "messages = [{\"role\": \"user\", \"content\": \"Give me a business area that might be ripe for an Agentic AI solution.\"}]\n",
        "\n",
        "# Then make the first call:\n",
        "\n",
        "response = groq.chat.completions.create(model='llama-3.3-70b-versatile', messages=messages)\n",
        "\n",
        "# Then read the business idea:\n",
        "\n",
        "business_idea = response.choices[0].message.content\n",
        "\n",
        "\n",
        "# And repeat!"
      ]
    },
    {
      "cell_type": "code",
      "execution_count": 45,
      "metadata": {
        "id": "-0bHcutuHOgY",
        "outputId": "d6f7a059-1de2-437c-b063-e4f044ff8dc0",
        "colab": {
          "base_uri": "https://localhost:8080/",
          "height": 501
        }
      },
      "outputs": [
        {
          "output_type": "display_data",
          "data": {
            "text/plain": [
              "<IPython.core.display.Markdown object>"
            ],
            "text/markdown": "One business area that might be ripe for an Agentic AI solution is **Supply Chain Management**, particularly in the realm of **Inventory Optimization** and **Demand Forecasting**.\n\nHere's why:\n\n1. **Complex decision-making**: Supply chain management involves making complex decisions about inventory levels, shipping routes, and supplier selection, which can be difficult for humans to optimize due to the numerous variables and uncertainties involved.\n2. **Data-rich environment**: Supply chains generate vast amounts of data, including sales data, weather patterns, transportation schedules, and inventory levels, which can be leveraged by Agentic AI to make informed decisions.\n3. **Dynamic and unpredictable environment**: Supply chains are inherently dynamic and unpredictable, with factors like weather, natural disasters, and changes in market demand affecting operations. Agentic AI can help adapt to these changes in real-time.\n4. **Opportunities for automation**: Many supply chain tasks, such as data analysis, reporting, and decision-making, can be automated, freeing up human resources to focus on higher-level strategic decisions.\n\nAn Agentic AI solution in this space could:\n\n1. **Analyze real-time data** to predict demand and adjust inventory levels accordingly.\n2. **Optimize shipping routes** and schedules to minimize delays and reduce costs.\n3. **Negotiate with suppliers** to secure the best prices and terms.\n4. **Identify potential disruptions** and develop contingency plans to mitigate their impact.\n\nBy leveraging Agentic AI in supply chain management, businesses can:\n\n1. **Improve forecast accuracy** and reduce inventory costs.\n2. **Enhance supply chain resilience** and adaptability.\n3. **Increase efficiency** and reduce manual errors.\n4. **Gain a competitive edge** in the market.\n\nThis is just one example, but I hope it gives you an idea of how Agentic AI can be applied to a specific business area!"
          },
          "metadata": {}
        }
      ],
      "source": [
        "\n",
        "display(Markdown(business_idea))"
      ]
    },
    {
      "cell_type": "code",
      "execution_count": 46,
      "metadata": {
        "id": "wcuNNUDwHOgY"
      },
      "outputs": [],
      "source": [
        "# Update the message with the business idea from previous step\n",
        "messages = [{\"role\": \"user\", \"content\": \"What is the pain point in the business area of \" + business_idea + \"?\"}]"
      ]
    },
    {
      "cell_type": "code",
      "execution_count": 47,
      "metadata": {
        "id": "8iAh-DCYHOgY"
      },
      "outputs": [],
      "source": [
        "# Make the second call\n",
        "response = groq.chat.completions.create(model='llama-3.3-70b-versatile', messages=messages)\n",
        "# Read the pain point\n",
        "pain_point = response.choices[0].message.content\n"
      ]
    },
    {
      "cell_type": "code",
      "execution_count": 48,
      "metadata": {
        "id": "UMNYUl3lHOgY",
        "outputId": "03765b8b-0600-4431-bd11-9f653f69cb13",
        "colab": {
          "base_uri": "https://localhost:8080/",
          "height": 490
        }
      },
      "outputs": [
        {
          "output_type": "display_data",
          "data": {
            "text/plain": [
              "<IPython.core.display.Markdown object>"
            ],
            "text/markdown": "The pain point in the business area of Supply Chain Management, specifically in Inventory Optimization and Demand Forecasting, can be summarized as follows:\n\n**Complex and dynamic decision-making**: Supply chain management involves making complex decisions about inventory levels, shipping routes, and supplier selection, which can be difficult for humans to optimize due to numerous variables and uncertainties.\n\nThe key challenges in this area include:\n\n1. **Inaccurate demand forecasting**: Difficulty in predicting demand leads to inventory mismanagement, resulting in stockouts, overstocking, or obsolescence.\n2. **Inefficient inventory management**: Failure to optimize inventory levels, leading to wasted resources, increased costs, and reduced customer satisfaction.\n3. **Supply chain disruptions**: Unpredictable events like weather, natural disasters, or changes in market demand can cause supply chain disruptions, leading to delays, increased costs, and lost sales.\n4. **Manual and time-consuming processes**: Many supply chain tasks, such as data analysis, reporting, and decision-making, are manual and time-consuming, taking away from strategic decision-making.\n\nTo address these pain points, an Agentic AI solution can be applied to:\n\n1. **Analyze real-time data** to predict demand and adjust inventory levels accordingly.\n2. **Optimize shipping routes** and schedules to minimize delays and reduce costs.\n3. **Automate decision-making** to improve forecast accuracy, reduce manual errors, and increase efficiency.\n4. **Develop contingency plans** to mitigate the impact of potential disruptions.\n\nBy leveraging Agentic AI in supply chain management, businesses can:\n\n1. **Improve forecast accuracy** and reduce inventory costs.\n2. **Enhance supply chain resilience** and adaptability.\n3. **Increase efficiency** and reduce manual errors.\n4. **Gain a competitive edge** in the market.\n\nThe benefits of using Agentic AI in supply chain management are clear, and it's an area ripe for innovation and improvement."
          },
          "metadata": {}
        }
      ],
      "source": [
        "display(Markdown(pain_point))\n"
      ]
    },
    {
      "cell_type": "code",
      "execution_count": 49,
      "metadata": {
        "id": "xzQX2lFMHOgY",
        "outputId": "611fa9bf-860a-4b97-a377-2f586f4f0000",
        "colab": {
          "base_uri": "https://localhost:8080/",
          "height": 814
        }
      },
      "outputs": [
        {
          "output_type": "display_data",
          "data": {
            "text/plain": [
              "<IPython.core.display.Markdown object>"
            ],
            "text/markdown": "The Agentic AI solution for the pain point in Supply Chain Management, specifically in Inventory Optimization and Demand Forecasting, is a comprehensive approach that leverages artificial intelligence and machine learning to address the complexities and challenges in this area. Here's a detailed overview of the solution:\n\n**Agentic AI Solution:**\n\nThe Agentic AI solution is designed to analyze real-time data, optimize shipping routes, automate decision-making, and develop contingency plans to mitigate the impact of potential disruptions. The solution consists of the following components:\n\n1. **Demand Forecasting Module**: This module uses machine learning algorithms to analyze historical sales data, weather patterns, seasonal trends, and other factors to predict demand with high accuracy.\n2. **Inventory Optimization Module**: This module uses predictive analytics to optimize inventory levels based on demand forecasts, lead times, and other factors to minimize stockouts, overstocking, and obsolescence.\n3. **Route Optimization Module**: This module uses advanced algorithms to optimize shipping routes and schedules to minimize delays, reduce costs, and improve delivery times.\n4. **Automation and Decision-Making Module**: This module uses artificial intelligence to automate decision-making processes, such as predicting demand, adjusting inventory levels, and optimizing shipping routes, to reduce manual errors and improve efficiency.\n5. **Contingency Planning Module**: This module uses predictive analytics to identify potential supply chain disruptions and develops contingency plans to mitigate their impact.\n\n**Benefits of Agentic AI Solution:**\n\nThe Agentic AI solution offers several benefits, including:\n\n1. **Improved Forecast Accuracy**: The solution uses machine learning algorithms to analyze real-time data and predict demand with high accuracy, reducing the likelihood of stockouts, overstocking, and obsolescence.\n2. **Enhanced Supply Chain Resilience**: The solution helps businesses develop contingency plans to mitigate the impact of potential disruptions, such as weather, natural disasters, or changes in market demand.\n3. **Increased Efficiency**: The solution automates decision-making processes, reducing manual errors and improving efficiency, which leads to cost savings and improved customer satisfaction.\n4. **Competitive Edge**: The solution provides businesses with a competitive edge in the market by enabling them to respond quickly to changes in demand, optimize their supply chain operations, and improve their overall performance.\n\n**Implementation Roadmap:**\n\nTo implement the Agentic AI solution, businesses can follow a phased approach:\n\n1. **Data Collection and Integration**: Collect and integrate data from various sources, such as sales, inventory, and shipping data.\n2. **Demand Forecasting and Inventory Optimization**: Implement the demand forecasting and inventory optimization modules to improve forecast accuracy and optimize inventory levels.\n3. **Route Optimization and Automation**: Implement the route optimization and automation modules to optimize shipping routes and automate decision-making processes.\n4. **Contingency Planning and Monitoring**: Implement the contingency planning module to identify potential supply chain disruptions and develop contingency plans to mitigate their impact.\n5. **Continuous Monitoring and Improvement**: Continuously monitor the performance of the Agentic AI solution and make improvements as needed to ensure optimal performance.\n\nBy following this implementation roadmap, businesses can successfully deploy the Agentic AI solution and achieve significant benefits in terms of improved forecast accuracy, enhanced supply chain resilience, increased efficiency, and competitive edge."
          },
          "metadata": {}
        }
      ],
      "source": [
        "# Make the third call\n",
        "messages = [{\"role\": \"user\", \"content\": \"What is the Agentic AI solution for the pain point of \" + pain_point + \"?\"}]\n",
        "response = groq.chat.completions.create(model='llama-3.3-70b-versatile', messages=messages)\n",
        "# Read the agentic solution\n",
        "agentic_solution = response.choices[0].message.content\n",
        "display(Markdown(agentic_solution))"
      ]
    },
    {
      "cell_type": "code",
      "execution_count": null,
      "metadata": {
        "id": "KTa29QtuHOgY"
      },
      "outputs": [],
      "source": []
    }
  ],
  "metadata": {
    "kernelspec": {
      "display_name": ".venv",
      "language": "python",
      "name": "python3"
    },
    "language_info": {
      "codemirror_mode": {
        "name": "ipython",
        "version": 3
      },
      "file_extension": ".py",
      "mimetype": "text/x-python",
      "name": "python",
      "nbconvert_exporter": "python",
      "pygments_lexer": "ipython3",
      "version": "3.12.10"
    },
    "colab": {
      "provenance": [],
      "include_colab_link": true
    }
  },
  "nbformat": 4,
  "nbformat_minor": 0
}